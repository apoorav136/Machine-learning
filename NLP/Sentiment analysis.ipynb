{
 "cells": [
  {
   "cell_type": "code",
   "execution_count": null,
   "metadata": {
    "collapsed": true
   },
   "outputs": [],
   "source": [
    "import pandas as pd\n",
    "from sklearn.feature_extraction.text import CountVectorizer\n",
    "import numpy as np\n",
    "from sklearn.linear_model import LogisticRegression"
   ]
  },
  {
   "cell_type": "code",
   "execution_count": null,
   "metadata": {
    "collapsed": true
   },
   "outputs": [],
   "source": [
    "training_d = pd.read_csv(\"train_data.csv\",delimiter=',')\n",
    "testing_d = pd.read_csv(\"test_data.csv\",delimiter=',')"
   ]
  },
  {
   "cell_type": "code",
   "execution_count": null,
   "metadata": {},
   "outputs": [],
   "source": [
    "training_d.head()"
   ]
  },
  {
   "cell_type": "code",
   "execution_count": null,
   "metadata": {},
   "outputs": [],
   "source": [
    "training_d.describe(include='all')"
   ]
  },
  {
   "cell_type": "code",
   "execution_count": null,
   "metadata": {
    "collapsed": true
   },
   "outputs": [],
   "source": [
    "del training_d['tweet_id']\n",
    "del training_d['airline']\n",
    "del training_d['airline_sentiment_gold']\n",
    "del training_d['name']\n",
    "del training_d['negativereason_gold']\n",
    "del training_d['retweet_count']\n",
    "del training_d['tweet_coord']\n",
    "del training_d['tweet_location']\n",
    "del training_d['user_timezone']\n"
   ]
  },
  {
   "cell_type": "code",
   "execution_count": null,
   "metadata": {
    "collapsed": true
   },
   "outputs": [],
   "source": [
    "del testing_d['tweet_id']\n",
    "del testing_d['airline']\n",
    "del testing_d['airline_sentiment_gold']\n",
    "del testing_d['name']\n",
    "del testing_d['negativereason_gold']\n",
    "del testing_d['retweet_count']\n",
    "del testing_d['tweet_coord']\n",
    "del testing_d['tweet_location']\n",
    "del testing_d['user_timezone']"
   ]
  },
  {
   "cell_type": "code",
   "execution_count": null,
   "metadata": {},
   "outputs": [],
   "source": [
    "training_d.head()"
   ]
  },
  {
   "cell_type": "code",
   "execution_count": null,
   "metadata": {},
   "outputs": [],
   "source": [
    "del training_d['tweet_created']\n",
    "del testing_d['tweet_created']\n",
    "training_d.head()"
   ]
  },
  {
   "cell_type": "code",
   "execution_count": null,
   "metadata": {
    "collapsed": true
   },
   "outputs": [],
   "source": [
    "def sentiment(str):\n",
    "    if str == 'negative':\n",
    "        return 0\n",
    "    elif str == 'positive':\n",
    "        return 1\n",
    "    else:\n",
    "        return 2\n",
    "training_d['airline_sentiment'] = training_d['airline_sentiment'].apply(sentiment)\n"
   ]
  },
  {
   "cell_type": "code",
   "execution_count": null,
   "metadata": {},
   "outputs": [],
   "source": [
    "Y_train = training_d.iloc[:,:training_d.shape[1]-1]\n",
    "print(Y_train.shape)\n",
    "X_train = training_d.iloc[:,1]\n",
    "print(X_train.shape)"
   ]
  },
  {
   "cell_type": "code",
   "execution_count": null,
   "metadata": {},
   "outputs": [],
   "source": [
    "X_train.head()"
   ]
  },
  {
   "cell_type": "code",
   "execution_count": null,
   "metadata": {},
   "outputs": [],
   "source": [
    "X_test = testing_d.iloc[:,0]\n",
    "X_test.head()"
   ]
  },
  {
   "cell_type": "code",
   "execution_count": null,
   "metadata": {},
   "outputs": [],
   "source": [
    "Y_train.head()"
   ]
  },
  {
   "cell_type": "code",
   "execution_count": null,
   "metadata": {},
   "outputs": [],
   "source": [
    "count_vec = CountVectorizer(max_features=1700)\n",
    "X_train_feature = count_vec.fit_transform(X_train)\n",
    "X_test_feature = count_vec.transform(X_test)\n",
    "X_test_feature"
   ]
  },
  {
   "cell_type": "code",
   "execution_count": null,
   "metadata": {},
   "outputs": [],
   "source": [
    "X_train_feature"
   ]
  },
  {
   "cell_type": "code",
   "execution_count": null,
   "metadata": {},
   "outputs": [],
   "source": [
    "lr =LogisticRegression()\n",
    "lr.fit(X_train_feature,Y_train)\n",
    "lr.score(X_train_feature,Y_train)"
   ]
  },
  {
   "cell_type": "code",
   "execution_count": null,
   "metadata": {},
   "outputs": [],
   "source": [
    "y_pred = lr.predict(X_test_feature)\n",
    "lr.score(X_test_feature,y_pred)"
   ]
  },
  {
   "cell_type": "code",
   "execution_count": null,
   "metadata": {},
   "outputs": [],
   "source": [
    "y_pred\n"
   ]
  },
  {
   "cell_type": "code",
   "execution_count": null,
   "metadata": {},
   "outputs": [],
   "source": [
    "b = y_pred.tolist()\n",
    "for i in range(0,len(b)):\n",
    "    if b[i] == 0:\n",
    "        b[i] = 'negative'\n",
    "    elif b[i] ==1:\n",
    "        b[i] = 'positive'\n",
    "    else:\n",
    "        b[i] = 'neutral'\n",
    "b_new = np.asarray(b)\n",
    "b_new.astype(str)\n",
    "b_new.dtype\n"
   ]
  },
  {
   "cell_type": "code",
   "execution_count": null,
   "metadata": {
    "collapsed": true
   },
   "outputs": [],
   "source": [
    "import numpy\n",
    "numpy.savetxt(\"val.csv\", b_new,delimiter=',',fmt=\"%s\")"
   ]
  },
  {
   "cell_type": "code",
   "execution_count": null,
   "metadata": {},
   "outputs": [],
   "source": []
  },
  {
   "cell_type": "code",
   "execution_count": null,
   "metadata": {
    "collapsed": true
   },
   "outputs": [],
   "source": []
  },
  {
   "cell_type": "code",
   "execution_count": null,
   "metadata": {
    "collapsed": true
   },
   "outputs": [],
   "source": []
  },
  {
   "cell_type": "code",
   "execution_count": null,
   "metadata": {
    "collapsed": true
   },
   "outputs": [],
   "source": []
  }
 ],
 "metadata": {
  "kernelspec": {
   "display_name": "Python 3",
   "language": "python",
   "name": "python3"
  },
  "language_info": {
   "codemirror_mode": {
    "name": "ipython",
    "version": 3
   },
   "file_extension": ".py",
   "mimetype": "text/x-python",
   "name": "python",
   "nbconvert_exporter": "python",
   "pygments_lexer": "ipython3",
   "version": "3.6.3"
  }
 },
 "nbformat": 4,
 "nbformat_minor": 2
}
